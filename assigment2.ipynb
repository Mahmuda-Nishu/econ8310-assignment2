{
  "nbformat": 4,
  "nbformat_minor": 0,
  "metadata": {
    "colab": {
      "provenance": []
    },
    "kernelspec": {
      "name": "python3",
      "display_name": "Python 3"
    },
    "language_info": {
      "name": "python"
    }
  },
  "cells": [
    {
      "cell_type": "code",
      "source": [
        "# assignment2.py\n",
        "\n",
        "import pandas as pd\n",
        "from sklearn.ensemble import RandomForestClassifier\n",
        "from sklearn.preprocessing import LabelEncoder\n",
        "\n",
        "# Load data\n",
        "train_url = \"https://raw.githubusercontent.com/dustywhite7/Econ8310/master/AssignmentData/assignment3.csv\"\n",
        "test_url = \"https://github.com/dustywhite7/Econ8310/raw/master/AssignmentData/assignment3test.csv\"\n",
        "\n",
        "train_data = pd.read_csv(train_url)\n",
        "test_data = pd.read_csv(test_url)\n",
        "\n",
        "# Drop rows with missing target\n",
        "train_data = train_data.dropna(subset=[\"meal\"])\n",
        "\n",
        "# Fill missing values\n",
        "train_data = train_data.fillna(0)\n",
        "test_data = test_data.fillna(0)\n",
        "\n",
        "# Encode categorical variables (fit on train, transform test)\n",
        "categorical_cols = train_data.select_dtypes(include=\"object\").columns\n",
        "label_encoders = {}\n",
        "\n",
        "for col in categorical_cols:\n",
        "    le = LabelEncoder()\n",
        "    train_data[col] = le.fit_transform(train_data[col].astype(str))\n",
        "    test_data[col] = test_data[col].astype(str).apply(lambda x: le.transform([x])[0] if x in le.classes_ else -1)\n",
        "    label_encoders[col] = le\n",
        "\n",
        "# Define input and output\n",
        "X_train = train_data.drop(columns=[\"meal\"])\n",
        "y_train = train_data[\"meal\"]\n",
        "X_test = test_data.drop(columns=[\"meal\"], errors='ignore')\n",
        "\n",
        "# ✅ Required variable: model\n",
        "model = RandomForestClassifier(random_state=42)\n",
        "\n",
        "# ✅ Required variable: modelFit\n",
        "modelFit = model.fit(X_train, y_train)\n",
        "\n",
        "# ✅ Required variable: pred\n",
        "pred = modelFit.predict(X_test)\n",
        "pred = [int(p) for p in pred]  # convert to list of 0s and 1s\n",
        "\n",
        "# Optional: Save predictions\n",
        "pd.Series(pred).to_csv(\"assignment2_predictions.csv\", index=False)\n",
        "\n",
        "# Optional: Print preview\n",
        "print(\"First 10 predictions:\", pred[:10])\n"
      ],
      "metadata": {
        "colab": {
          "base_uri": "https://localhost:8080/"
        },
        "id": "oPvgNdugDYdY",
        "outputId": "bceb7ba9-67b4-487d-f310-cfd66c9c4149"
      },
      "execution_count": 5,
      "outputs": [
        {
          "output_type": "stream",
          "name": "stdout",
          "text": [
            "First 10 predictions: [0, 0, 0, 0, 1, 0, 0, 0, 1, 0]\n"
          ]
        }
      ]
    }
  ]
}