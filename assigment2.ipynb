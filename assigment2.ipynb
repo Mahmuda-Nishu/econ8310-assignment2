{
  "nbformat": 4,
  "nbformat_minor": 0,
  "metadata": {
    "colab": {
      "provenance": []
    },
    "kernelspec": {
      "name": "python3",
      "display_name": "Python 3"
    },
    "language_info": {
      "name": "python"
    }
  },
  "cells": [
    {
      "cell_type": "code",
      "source": [
        "import pandas as pd\n",
        "from sklearn.ensemble import RandomForestClassifier\n",
        "from sklearn.preprocessing import LabelEncoder\n",
        "\n",
        "# Load training and test data\n",
        "train_url = \"https://raw.githubusercontent.com/dustywhite7/Econ8310/master/AssignmentData/assignment3.csv\"\n",
        "test_url = \"https://github.com/dustywhite7/Econ8310/raw/master/AssignmentData/assignment3test.csv\"\n",
        "\n",
        "train_data = pd.read_csv(train_url)\n",
        "test_data = pd.read_csv(test_url)\n",
        "\n",
        "# Drop rows with missing target\n",
        "train_data = train_data.dropna(subset=['meal'])\n",
        "\n",
        "# Fill missing values in both datasets\n",
        "train_data = train_data.fillna(0)\n",
        "test_data = test_data.fillna(0)\n",
        "\n",
        "# Encode categorical variables\n",
        "categorical_cols = train_data.select_dtypes(include=['object']).columns\n",
        "label_encoders = {}\n",
        "\n",
        "for col in categorical_cols:\n",
        "    le = LabelEncoder()\n",
        "    train_values = train_data[col].astype(str)\n",
        "    test_values = test_data[col].astype(str)\n",
        "\n",
        "    # Fit on training data\n",
        "    le.fit(train_values)\n",
        "    label_encoders[col] = le\n",
        "\n",
        "    # Transform training data\n",
        "    train_data[col] = le.transform(train_values)\n",
        "\n",
        "    # Transform test data with handling unseen labels\n",
        "    test_data[col] = test_values.apply(lambda x: le.transform([x])[0] if x in le.classes_ else -1)\n",
        "\n",
        "# Split into features and target\n",
        "X_train = train_data.drop(columns=['meal'])\n",
        "y_train = train_data['meal']\n",
        "X_test = test_data.drop(columns=['meal'], errors='ignore')  # drop target if it exists\n",
        "\n",
        "# Model: Random Forest\n",
        "model = RandomForestClassifier(random_state=42)\n",
        "\n",
        "# Fit the model\n",
        "modelFit = model.fit(X_train, y_train)\n",
        "\n",
        "# Generate binary predictions\n",
        "pred = modelFit.predict(X_test)\n",
        "pred = pd.Series(pred, name=\"meal_prediction\")\n",
        "\n",
        "# Save predictions (optional)\n",
        "pred.to_csv(\"assignment2_predictions.csv\", index=False)\n",
        "\n",
        "# Print preview\n",
        "print(\"First 10 predictions:\", pred.head(10).to_list())\n"
      ],
      "metadata": {
        "colab": {
          "base_uri": "https://localhost:8080/"
        },
        "id": "NUF32BUo1TH9",
        "outputId": "ab5778ea-ddab-432b-87fa-fb209007b779"
      },
      "execution_count": 4,
      "outputs": [
        {
          "output_type": "stream",
          "name": "stdout",
          "text": [
            "First 10 predictions: [0, 0, 0, 0, 1, 0, 0, 0, 1, 0]\n"
          ]
        }
      ]
    }
  ]
}