{
  "nbformat": 4,
  "nbformat_minor": 0,
  "metadata": {
    "colab": {
      "provenance": []
    },
    "kernelspec": {
      "name": "python3",
      "display_name": "Python 3"
    },
    "language_info": {
      "name": "python"
    }
  },
  "cells": [
    {
      "cell_type": "code",
      "execution_count": 2,
      "metadata": {
        "colab": {
          "base_uri": "https://localhost:8080/"
        },
        "id": "Q_LizOxzEu8j",
        "outputId": "2f4d0f1b-454b-4659-f835-e5e4d7a4c41b"
      },
      "outputs": [
        {
          "output_type": "stream",
          "name": "stdout",
          "text": [
            "Model selection completed and predictions have been saved.\n"
          ]
        }
      ],
      "source": [
        "import pandas as pd\n",
        "import numpy as np\n",
        "from sklearn.model_selection import train_test_split, KFold, GridSearchCV\n",
        "from sklearn.metrics import accuracy_score\n",
        "from sklearn.ensemble import RandomForestClassifier, StackingClassifier\n",
        "from sklearn.tree import DecisionTreeClassifier\n",
        "from xgboost import XGBClassifier\n",
        "import joblib\n",
        "\n",
        "# Load datasets\n",
        "train_url = \"https://github.com/dustywhite7/Econ8310/raw/master/AssignmentData/assignment3.csv\"\n",
        "test_url = \"https://github.com/dustywhite7/Econ8310/raw/master/AssignmentData/assignment3test.csv\"\n",
        "data = pd.read_csv(train_url)\n",
        "test_data = pd.read_csv(test_url)\n",
        "\n",
        " # Drop non-numeric columns\n",
        "test_data = test_data.drop(columns=['id', 'DateTime'])\n",
        "test_data = pd.get_dummies(test_data, drop_first=True)\n",
        "test_data = test_data.reindex(columns=X.columns, fill_value=0) #ensure the same colunms\n",
        "\n",
        "# target variable and features defining\n",
        "y = data['meal']\n",
        "X = data.drop(columns=['meal', 'id', 'DateTime'])  # Remove non-numeric columns\n",
        "X = pd.get_dummies(X, drop_first=True)  # Convert categorical features if any\n",
        "\n",
        "# Split dataset(training and testing sets)\n",
        "x, xt, y, yt = train_test_split(X, y, test_size=0.1, random_state=42)\n",
        "\n",
        "#best-performing model\n",
        "model = XGBClassifier(n_estimators=100, max_depth=8, learning_rate=0.2, random_state=42, objective='binary:logistic')\n",
        "\n",
        "# Train the model\n",
        "modelFit = model.fit(x, y)\n",
        "\n",
        "#predictions\n",
        "pred = modelFit.predict(test_data)\n",
        "pred = [int(p) for p in pred]  # Convert to required format\n",
        "pd.DataFrame(pred, columns=[\"meal_prediction\"]).to_csv(\"predictions.csv\", index=False)\n",
        "\n",
        "# Save the trained model\n",
        "joblib.dump(modelFit, \"modelFit.pkl\")\n",
        "\n",
        "print(\"Model selection completed and predictions have been saved.\")"
      ]
    }
  ]
}